{
 "cells": [
  {
   "cell_type": "code",
   "execution_count": 1,
   "id": "d529e2af",
   "metadata": {},
   "outputs": [
    {
     "name": "stdout",
     "output_type": "stream",
     "text": [
      "Defaulting to user installation because normal site-packages is not writeable\n",
      "Collecting gym==0.26.2\n",
      "  Using cached gym-0.26.2.tar.gz (721 kB)\n",
      "  Installing build dependencies ... \u001b[?25ldone\n",
      "\u001b[?25h  Getting requirements to build wheel ... \u001b[?25ldone\n",
      "\u001b[?25h    Preparing wheel metadata ... \u001b[?25ldone\n",
      "\u001b[?25hCollecting jax==0.4.1\n",
      "  Downloading jax-0.4.1.tar.gz (1.2 MB)\n",
      "\u001b[K     |████████████████████████████████| 1.2 MB 12.9 MB/s eta 0:00:01\n",
      "\u001b[?25hRequirement already satisfied: multigroupGP==1.5 in /home/pe3955/.local/lib/python3.9/site-packages (from -r requirements.txt (line 3)) (1.5)\n",
      "Collecting numpy==1.21.6\n",
      "  Downloading numpy-1.21.6-cp39-cp39-manylinux_2_12_x86_64.manylinux2010_x86_64.whl (15.7 MB)\n",
      "\u001b[K     |████████████████████████████████| 15.7 MB 83.5 MB/s eta 0:00:01\n",
      "\u001b[?25hCollecting pandas==1.4.2\n",
      "  Downloading pandas-1.4.2-cp39-cp39-manylinux_2_17_x86_64.manylinux2014_x86_64.whl (11.7 MB)\n",
      "\u001b[K     |████████████████████████████████| 11.7 MB 87.2 MB/s eta 0:00:01\n",
      "\u001b[?25hCollecting scikit_learn==1.2.0\n",
      "  Downloading scikit_learn-1.2.0-cp39-cp39-manylinux_2_17_x86_64.manylinux2014_x86_64.whl (9.5 MB)\n",
      "\u001b[K     |████████████████████████████████| 9.5 MB 82.1 MB/s eta 0:00:01\n",
      "\u001b[?25hRequirement already satisfied: torch==1.13.1 in /home/pe3955/.local/lib/python3.9/site-packages (from -r requirements.txt (line 7)) (1.13.1)\n",
      "Requirement already satisfied: gym-notices>=0.0.4 in /home/pe3955/.local/lib/python3.9/site-packages (from gym==0.26.2->-r requirements.txt (line 1)) (0.0.7)\n",
      "Requirement already satisfied: cloudpickle>=1.2.0 in /home/pe3955/.local/lib/python3.9/site-packages (from gym==0.26.2->-r requirements.txt (line 1)) (1.2.2)\n",
      "Requirement already satisfied: importlib-metadata>=4.8.0 in /home/pe3955/.local/lib/python3.9/site-packages (from gym==0.26.2->-r requirements.txt (line 1)) (4.12.0)\n",
      "Requirement already satisfied: opt_einsum in /home/pe3955/.local/lib/python3.9/site-packages (from jax==0.4.1->-r requirements.txt (line 2)) (3.3.0)\n",
      "Requirement already satisfied: scipy>=1.5 in /usr/licensed/anaconda3/2021.11/lib/python3.9/site-packages (from jax==0.4.1->-r requirements.txt (line 2)) (1.7.1)\n",
      "Requirement already satisfied: python-dateutil>=2.8.1 in /usr/licensed/anaconda3/2021.11/lib/python3.9/site-packages (from pandas==1.4.2->-r requirements.txt (line 5)) (2.8.2)\n",
      "Requirement already satisfied: pytz>=2020.1 in /usr/licensed/anaconda3/2021.11/lib/python3.9/site-packages (from pandas==1.4.2->-r requirements.txt (line 5)) (2021.3)\n",
      "Collecting joblib>=1.1.1\n",
      "  Using cached joblib-1.2.0-py3-none-any.whl (297 kB)\n",
      "Requirement already satisfied: threadpoolctl>=2.0.0 in /usr/licensed/anaconda3/2021.11/lib/python3.9/site-packages (from scikit_learn==1.2.0->-r requirements.txt (line 6)) (2.2.0)\n",
      "Requirement already satisfied: nvidia-cublas-cu11==11.10.3.66 in /home/pe3955/.local/lib/python3.9/site-packages (from torch==1.13.1->-r requirements.txt (line 7)) (11.10.3.66)\n",
      "Requirement already satisfied: nvidia-cudnn-cu11==8.5.0.96 in /home/pe3955/.local/lib/python3.9/site-packages (from torch==1.13.1->-r requirements.txt (line 7)) (8.5.0.96)\n",
      "Requirement already satisfied: nvidia-cuda-nvrtc-cu11==11.7.99 in /home/pe3955/.local/lib/python3.9/site-packages (from torch==1.13.1->-r requirements.txt (line 7)) (11.7.99)\n",
      "Requirement already satisfied: nvidia-cuda-runtime-cu11==11.7.99 in /home/pe3955/.local/lib/python3.9/site-packages (from torch==1.13.1->-r requirements.txt (line 7)) (11.7.99)\n",
      "Requirement already satisfied: typing-extensions in /usr/licensed/anaconda3/2021.11/lib/python3.9/site-packages (from torch==1.13.1->-r requirements.txt (line 7)) (3.10.0.2)\n",
      "Requirement already satisfied: wheel in /usr/licensed/anaconda3/2021.11/lib/python3.9/site-packages (from nvidia-cublas-cu11==11.10.3.66->torch==1.13.1->-r requirements.txt (line 7)) (0.37.0)\n",
      "Requirement already satisfied: setuptools in /usr/licensed/anaconda3/2021.11/lib/python3.9/site-packages (from nvidia-cublas-cu11==11.10.3.66->torch==1.13.1->-r requirements.txt (line 7)) (58.0.4)\n",
      "Requirement already satisfied: zipp>=0.5 in /usr/licensed/anaconda3/2021.11/lib/python3.9/site-packages (from importlib-metadata>=4.8.0->gym==0.26.2->-r requirements.txt (line 1)) (3.6.0)\n",
      "Requirement already satisfied: six>=1.5 in /usr/licensed/anaconda3/2021.11/lib/python3.9/site-packages (from python-dateutil>=2.8.1->pandas==1.4.2->-r requirements.txt (line 5)) (1.16.0)\n",
      "Building wheels for collected packages: gym, jax\n",
      "  Building wheel for gym (PEP 517) ... \u001b[?25ldone\n",
      "\u001b[?25h  Created wheel for gym: filename=gym-0.26.2-py3-none-any.whl size=827633 sha256=5e9315499fa4a7eb943364fbcf109df1eec36be14e9fee20f05bf0a1c687ccd0\n",
      "  Stored in directory: /home/pe3955/.cache/pip/wheels/af/2b/30/5e78b8b9599f2a2286a582b8da80594f654bf0e18d825a4405\n",
      "  Building wheel for jax (setup.py) ... \u001b[?25ldone\n",
      "\u001b[?25h  Created wheel for jax: filename=jax-0.4.1-py3-none-any.whl size=1332477 sha256=4cdf2b0f3b2977951f11e3bd2de7d5e3b48d3c79786d110ae13001a4a584d8de\n",
      "  Stored in directory: /home/pe3955/.cache/pip/wheels/bb/f7/56/3b5d10a573be427643de12e27ff806d622d843a5d30b0cc164\n",
      "Successfully built gym jax\n",
      "Installing collected packages: numpy, joblib, scikit-learn, pandas, jax, gym\n",
      "  Attempting uninstall: numpy\n",
      "    Found existing installation: numpy 1.24.2\n",
      "    Uninstalling numpy-1.24.2:\n",
      "      Successfully uninstalled numpy-1.24.2\n",
      "\u001b[31mERROR: Could not install packages due to an OSError: [Errno 16] Device or resource busy: '.nfs00000001ded2715500001aaa'\n",
      "\u001b[0m\n",
      "Note: you may need to restart the kernel to use updated packages.\n"
     ]
    }
   ],
   "source": [
    "pip install -r requirements.txt"
   ]
  },
  {
   "cell_type": "code",
   "execution_count": null,
   "id": "aa734873",
   "metadata": {},
   "outputs": [],
   "source": []
  }
 ],
 "metadata": {
  "kernelspec": {
   "display_name": "Python 3 (ipykernel)",
   "language": "python",
   "name": "python3"
  },
  "language_info": {
   "codemirror_mode": {
    "name": "ipython",
    "version": 3
   },
   "file_extension": ".py",
   "mimetype": "text/x-python",
   "name": "python",
   "nbconvert_exporter": "python",
   "pygments_lexer": "ipython3",
   "version": "3.9.7"
  }
 },
 "nbformat": 4,
 "nbformat_minor": 5
}
